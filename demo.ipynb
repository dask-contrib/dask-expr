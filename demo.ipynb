{
 "cells": [
  {
   "cell_type": "markdown",
   "id": "9bbe3374-c6d7-4b2c-a55f-1290067c6ae5",
   "metadata": {},
   "source": [
    "# Dask Match Demonstration"
   ]
  },
  {
   "cell_type": "markdown",
   "id": "3efeda20-6f1d-4ae2-996a-d9f4fe09328d",
   "metadata": {},
   "source": [
    "We make a Dask client, mostly so we can use the dashboard."
   ]
  },
  {
   "cell_type": "code",
   "execution_count": null,
   "id": "16afe6ff-446c-4ccc-8b1f-87fedcc5e66b",
   "metadata": {
    "tags": []
   },
   "outputs": [],
   "source": [
    "from dask.distributed import Client\n",
    "client = Client()"
   ]
  },
  {
   "cell_type": "markdown",
   "id": "304c473e-0a18-4255-a6b1-2611bdb2d8ca",
   "metadata": {},
   "source": [
    "## Example DataFrame"
   ]
  },
  {
   "cell_type": "code",
   "execution_count": null,
   "id": "2403e22e-8da0-47d6-b323-f1812c258039",
   "metadata": {
    "tags": []
   },
   "outputs": [],
   "source": [
    "import dask_expr as dx\n",
    "\n",
    "df = dx.datasets.timeseries(\n",
    "    start=\"2000-01-01\", \n",
    "    end=\"2000-12-30\", \n",
    "    freq=\"100ms\",\n",
    ")\n",
    "df"
   ]
  },
  {
   "cell_type": "markdown",
   "id": "988abc5b-e068-496f-b72b-6f11e7d9afc8",
   "metadata": {},
   "source": [
    "## Expression trees and optimization"
   ]
  },
  {
   "cell_type": "code",
   "execution_count": null,
   "id": "a7665e2d-ab78-4fe0-b20a-5ee7790c15ad",
   "metadata": {
    "tags": []
   },
   "outputs": [],
   "source": [
    "%%time\n",
    "out = df[df.id == 1000].x.sum()\n",
    "out.compute()"
   ]
  },
  {
   "cell_type": "code",
   "execution_count": null,
   "id": "ccb03266-1eaf-4786-8834-ef69355d6cc5",
   "metadata": {
    "tags": []
   },
   "outputs": [],
   "source": [
    "out.pprint()"
   ]
  },
  {
   "cell_type": "code",
   "execution_count": null,
   "id": "6d66995e-3042-428a-95ca-a55c1b126cb6",
   "metadata": {
    "tags": []
   },
   "outputs": [],
   "source": [
    "out.optimize(fuse=False).pprint()"
   ]
  },
  {
   "cell_type": "code",
   "execution_count": null,
   "id": "e770d156-9c1d-4550-b754-49a606d99494",
   "metadata": {},
   "outputs": [],
   "source": [
    "out.optimize().pprint()"
   ]
  },
  {
   "cell_type": "code",
   "execution_count": null,
   "id": "ced56426-de9e-4cca-b235-9367eff270ba",
   "metadata": {
    "tags": []
   },
   "outputs": [],
   "source": [
    "%%time\n",
    "out.optimize().compute()"
   ]
  },
  {
   "cell_type": "markdown",
   "id": "e10082f7-7044-459f-b845-f258f181958c",
   "metadata": {},
   "source": [
    "## Class structure"
   ]
  },
  {
   "cell_type": "code",
   "execution_count": null,
   "id": "5ffd9a54-0a43-474a-8946-3b1a60e09f47",
   "metadata": {
    "tags": []
   },
   "outputs": [],
   "source": [
    "out = (df.x + 1)\n",
    "out"
   ]
  },
  {
   "cell_type": "markdown",
   "id": "0bd2ebf0-7d3d-4fd2-8ad6-52440f777d09",
   "metadata": {},
   "source": [
    "Dataframe/Series/Index objects live in `collections.py`"
   ]
  },
  {
   "cell_type": "code",
   "execution_count": null,
   "id": "68270fa0-de49-4860-ba05-8faad996e9fd",
   "metadata": {},
   "outputs": [],
   "source": [
    "type(out)"
   ]
  },
  {
   "cell_type": "markdown",
   "id": "3cdd6d94-3589-444d-8b0c-ef88419f513c",
   "metadata": {},
   "source": [
    "Collections used to hold `_meta`, `divisions`, `_name`, and `__dask_graph__`.  Now they hold just `expr`, which computes these things based on user inputs."
   ]
  },
  {
   "cell_type": "code",
   "execution_count": null,
   "id": "6d918536-fac4-4e7c-8b98-35b3cccda9ff",
   "metadata": {
    "tags": []
   },
   "outputs": [],
   "source": [
    "out.__dict__"
   ]
  },
  {
   "cell_type": "code",
   "execution_count": null,
   "id": "35355ba2-3fc8-442f-baa0-09a3c1cc651c",
   "metadata": {
    "tags": []
   },
   "outputs": [],
   "source": [
    "out.expr"
   ]
  },
  {
   "cell_type": "markdown",
   "id": "a290cb24-9d27-40a0-b16a-178d9cd4f923",
   "metadata": {},
   "source": [
    "Expressions have a type hierarchy which reflects user commands"
   ]
  },
  {
   "cell_type": "code",
   "execution_count": null,
   "id": "3878fb5d-405e-4beb-abb6-ffce08627a2a",
   "metadata": {
    "tags": []
   },
   "outputs": [],
   "source": [
    "type(out.expr)"
   ]
  },
  {
   "cell_type": "code",
   "execution_count": null,
   "id": "c7cda078-2825-4494-864f-7dd642b2d0b5",
   "metadata": {
    "tags": []
   },
   "outputs": [],
   "source": [
    "type(out.expr).mro()"
   ]
  },
  {
   "cell_type": "markdown",
   "id": "f9a7b00b-4f9c-4d14-a65c-8d3912d813ff",
   "metadata": {},
   "source": [
    "Expressions are composed of a *type* or *Operation* (like `Add`) and *operands*, (like `left` and `right`)"
   ]
  },
  {
   "cell_type": "code",
   "execution_count": null,
   "id": "c6536b18-2d4a-49cb-9098-8d40d9e3eba2",
   "metadata": {
    "tags": []
   },
   "outputs": [],
   "source": [
    "out._parameters"
   ]
  },
  {
   "cell_type": "code",
   "execution_count": null,
   "id": "81f2e534-ad51-4342-af45-9fb43385405a",
   "metadata": {
    "tags": []
   },
   "outputs": [],
   "source": [
    "out.operands"
   ]
  },
  {
   "cell_type": "code",
   "execution_count": null,
   "id": "75498d83-3e35-4140-a5df-87d0dd00b5d5",
   "metadata": {
    "tags": []
   },
   "outputs": [],
   "source": [
    "type(out.left)"
   ]
  },
  {
   "cell_type": "code",
   "execution_count": null,
   "id": "0ee8a172-0222-43cd-a38a-6ccbf5867b32",
   "metadata": {
    "tags": []
   },
   "outputs": [],
   "source": [
    "dict(\n",
    "    zip(\n",
    "        out.left._parameters, \n",
    "        out.left.operands,\n",
    "    )\n",
    ")"
   ]
  },
  {
   "cell_type": "code",
   "execution_count": null,
   "id": "5fdb28f2-2a36-429a-a77d-028ff9ced87a",
   "metadata": {
    "tags": []
   },
   "outputs": [],
   "source": [
    "dict(\n",
    "    zip(\n",
    "        out.left.frame._parameters, \n",
    "        out.left.frame.operands,\n",
    "    )\n",
    ")"
   ]
  }
 ],
 "metadata": {
  "kernelspec": {
   "display_name": "Python 3 (ipykernel)",
   "language": "python",
   "name": "python3"
  },
  "language_info": {
   "codemirror_mode": {
    "name": "ipython",
    "version": 3
   },
   "file_extension": ".py",
   "mimetype": "text/x-python",
   "name": "python",
   "nbconvert_exporter": "python",
   "pygments_lexer": "ipython3",
   "version": "3.11.0"
  }
 },
 "nbformat": 4,
 "nbformat_minor": 5
}
