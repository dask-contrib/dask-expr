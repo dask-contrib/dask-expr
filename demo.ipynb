{
 "cells": [
  {
   "cell_type": "markdown",
   "id": "9bbe3374-c6d7-4b2c-a55f-1290067c6ae5",
   "metadata": {},
   "source": [
    "# Dask Match Demonstration"
   ]
  },
  {
   "cell_type": "markdown",
   "id": "3efeda20-6f1d-4ae2-996a-d9f4fe09328d",
   "metadata": {},
   "source": [
    "We make a Dask client, mostly so we can use the dashboard."
   ]
  },
  {
   "cell_type": "code",
   "execution_count": null,
   "id": "16afe6ff-446c-4ccc-8b1f-87fedcc5e66b",
   "metadata": {
    "tags": []
   },
   "outputs": [],
   "source": [
    "from dask.distributed import Client\n",
    "client = Client()"
   ]
  },
  {
   "cell_type": "markdown",
   "id": "304c473e-0a18-4255-a6b1-2611bdb2d8ca",
   "metadata": {},
   "source": [
    "## Example DataFrame"
   ]
  },
  {
   "cell_type": "code",
   "execution_count": null,
   "id": "2403e22e-8da0-47d6-b323-f1812c258039",
   "metadata": {
    "tags": []
   },
   "outputs": [],
   "source": [
    "import dask_match as dm\n",
    "\n",
    "df = dm.datasets.timeseries(\n",
    "    start=\"2000-01-01\", \n",
    "    end=\"2000-12-30\", \n",
    "    freq=\"100ms\",\n",
    ")\n",
    "df.head()"
   ]
  },
  {
   "cell_type": "markdown",
   "id": "988abc5b-e068-496f-b72b-6f11e7d9afc8",
   "metadata": {},
   "source": [
    "## Expression trees and optimization"
   ]
  },
  {
   "cell_type": "code",
   "execution_count": null,
   "id": "a7665e2d-ab78-4fe0-b20a-5ee7790c15ad",
   "metadata": {
    "tags": []
   },
   "outputs": [],
   "source": [
    "%%time\n",
    "out = df[df.id == 1000].x.sum()\n",
    "out.compute()"
   ]
  },
  {
   "cell_type": "code",
   "execution_count": null,
   "id": "ccb03266-1eaf-4786-8834-ef69355d6cc5",
   "metadata": {
    "tags": []
   },
   "outputs": [],
   "source": [
    "out.pprint()"
   ]
  },
  {
   "cell_type": "code",
   "execution_count": null,
   "id": "6d66995e-3042-428a-95ca-a55c1b126cb6",
   "metadata": {
    "tags": []
   },
   "outputs": [],
   "source": [
    "out.optimize(fuse=False).pprint()"
   ]
  },
  {
   "cell_type": "code",
   "execution_count": null,
   "id": "e770d156-9c1d-4550-b754-49a606d99494",
   "metadata": {},
   "outputs": [],
   "source": [
    "out.optimize().pprint()"
   ]
  },
  {
   "cell_type": "code",
   "execution_count": null,
   "id": "ced56426-de9e-4cca-b235-9367eff270ba",
   "metadata": {
    "tags": []
   },
   "outputs": [],
   "source": [
    "%%time\n",
    "out.optimize().compute()"
   ]
  },
  {
   "cell_type": "code",
   "execution_count": null,
   "id": "30846f63-34da-4c50-bb50-a52fdf15b274",
   "metadata": {},
   "outputs": [],
   "source": []
  }
 ],
 "metadata": {
  "kernelspec": {
   "display_name": "Python 3 (ipykernel)",
   "language": "python",
   "name": "python3"
  },
  "language_info": {
   "codemirror_mode": {
    "name": "ipython",
    "version": 3
   },
   "file_extension": ".py",
   "mimetype": "text/x-python",
   "name": "python",
   "nbconvert_exporter": "python",
   "pygments_lexer": "ipython3",
   "version": "3.11.0"
  }
 },
 "nbformat": 4,
 "nbformat_minor": 5
}
